{
 "cells": [
  {
   "cell_type": "code",
   "execution_count": 2,
   "metadata": {},
   "outputs": [],
   "source": [
    "import pandas as pd\n",
    "import numpy as np\n",
    "import matplotlib.pyplot as plt\n",
    "import scipy.stats as stats"
   ]
  },
  {
   "cell_type": "code",
   "execution_count": 3,
   "metadata": {},
   "outputs": [
    {
     "data": {
      "text/plain": [
       "[<matplotlib.lines.Line2D at 0x26f20b40d88>]"
      ]
     },
     "execution_count": 3,
     "metadata": {},
     "output_type": "execute_result"
    },
    {
     "data": {
      "image/png": "[encoded data removed]",
      "text/plain": [
       "<Figure size 432x288 with 1 Axes>"
      ]
     },
     "metadata": {
      "needs_background": "light"
     },
     "output_type": "display_data"
    }
   ],
   "source": [
    "m=10000000\n",
    "X=np.random.normal(0,1,m)\n",
    "u = np.arange(-5,5,.1)\n",
    "normal_dist = stats.norm()\n",
    "fig,ax=plt.subplots()\n",
    "ax.hist(X,bins=int(np.sqrt(m)),density=True);\n",
    "ax.plot(u,normal_dist.pdf(u))"
   ]
  },
  {
   "cell_type": "code",
   "execution_count": 4,
   "metadata": {},
   "outputs": [
    {
     "data": {
      "image/png": "[encoded data removed]",
      "text/plain": [
       "<Figure size 648x216 with 4 Axes>"
      ]
     },
     "metadata": {
      "needs_background": "light"
     },
     "output_type": "display_data"
    }
   ],
   "source": [
    "import matplotlib.pyplot as plt\n",
    "import numpy as np\n",
    "import matplotlib.animation as anim\n",
    "\n",
    "# generate 4 random variables from the random, gamma, exponential, and uniform distributions\n",
    "fig,axs = plt.subplots(2,2,sharey=True,sharex=True,figsize=(9,3))\n",
    "n=1000\n",
    "m=10\n",
    "x1 = np.random.normal(-2.5, 1, n)\n",
    "x2 = np.random.gamma(1, 1, n)\n",
    "x3 = np.random.exponential(2, n)\n",
    "x4 = np.random.uniform(0,1, n)\n",
    "X = [[x1,x2],[x3,x4]]\n",
    "labels=[\"Normal\",\"Gamma\",\"Exponential\",\"Uniform\"]\n",
    "# plot the histograms\n",
    "def init():\n",
    "    plt.gca().set_xlim(-5, 5)\n",
    "    plt.gca().set_ylim(0, 1)\n",
    "    return fig.show(),\n",
    "last=0\n",
    "def update(frame):\n",
    "    if frame==n:\n",
    "        ani.event_source.stop()\n",
    "    for i in range(2):\n",
    "        for j in range(2):\n",
    "            axs[i][j].cla()\n",
    "            axs[i][j].hist(X[i][j][last:frame],normed=True,bins=m,alpha=0.5,color=\"b\")\n",
    "            axs[i][j].set_title(\"{}: $n$={}\".format(labels[2*i+j],frame))\n",
    "            axs[i][j].set_xlim(-5, 5)\n",
    "            axs[i][j].set_ylim(0, 1)\n",
    "    frame=last\n",
    "\n",
    "ani = anim.FuncAnimation(fig, update, interval=100,init_func=None)\n",
    "#for i in range(2):\n",
    "#    for j in range(2):\n",
    "#        axs[i][j].hist(X[i][j],normed=True,bins=m,alpha=0.5)\n",
    "#        axs[i][j].set_title(labels[2*i+j])"
   ]
  },
  {
   "cell_type": "code",
   "execution_count": null,
   "metadata": {},
   "outputs": [],
   "source": []
  }
 ],
 "metadata": {
  "kernelspec": {
   "display_name": "Python 3",
   "language": "python",
   "name": "python3"
  },
  "language_info": {
   "codemirror_mode": {
    "name": "ipython",
    "version": 3
   },
   "file_extension": ".py",
   "mimetype": "text/x-python",
   "name": "python",
   "nbconvert_exporter": "python",
   "pygments_lexer": "ipython3",
   "version": "3.7.7"
  }
 },
 "nbformat": 4,
 "nbformat_minor": 4
}
