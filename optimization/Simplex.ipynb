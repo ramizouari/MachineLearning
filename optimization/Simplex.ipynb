{
 "cells": [
  {
   "cell_type": "code",
   "execution_count": 2,
   "metadata": {},
   "outputs": [],
   "source": [
    "import numpy as np"
   ]
  },
  {
   "cell_type": "code",
   "execution_count": 1,
   "metadata": {},
   "outputs": [],
   "source": [
    "def simplex(M,Z,C):\n",
    "    n = Z.shape[0]\n",
    "    m = M.shape[1]\n",
    "    l = M.shape[0]\n",
    "    V = np.r_[Z,np.zeros(m-n)]\n",
    "    M = M.copy().astype(float)\n",
    "    Z = Z.copy().astype(float)\n",
    "    C = C .copy().astype(float)\n",
    "    i=0\n",
    "    while np.max(V) > 0:\n",
    "        i =i+1\n",
    "        p = V.argmax()\n",
    "        for j in range(l):\n",
    "            if np.abs(M[j,p]) > 0:\n",
    "                C[j] = C[j] / M[j,p]\n",
    "                M[j,:] = M[j,:] / M[j,p]\n",
    "        q = np.ma.masked_array(C,mask=C<=0).argmin()\n",
    "        K = M[q,:]\n",
    "        M = M - K\n",
    "        M[q,:]=K\n",
    "        k = C[q]\n",
    "        C = C - k\n",
    "        C[q]=k\n",
    "        print(M)\n",
    "        print(C)\n",
    "        V = V -V[p]*K\n",
    "    for i in range(m):\n",
    "        if V[i] < 0:\n",
    "            w = np.zeros(m)\n",
    "            w[i]=1\n",
    "            M = np.r_[M,np.atleast_2d(w)]\n",
    "    C = np.r_[C,np.zeros((V<0).sum())]\n",
    "    return (np.linalg.pinv(M)@C)[:n]@Z"
   ]
  },
  {
   "cell_type": "code",
   "execution_count": 3,
   "metadata": {},
   "outputs": [],
   "source": [
    "M = np.array([[1,9,1,0,0],[-3,-4,0,-1,0],[-3,1,0,0,1]])\n",
    "C = np.array([4,-5,-1])\n",
    "Z = np.array([4,1])"
   ]
  },
  {
   "cell_type": "code",
   "execution_count": 4,
   "metadata": {},
   "outputs": [
    {
     "name": "stdout",
     "output_type": "stream",
     "text": [
      "[[ 0.          9.33333333  1.          0.          0.33333333]\n",
      " [ 0.          1.66666667  0.          0.33333333  0.33333333]\n",
      " [ 1.         -0.33333333 -0.         -0.         -0.33333333]]\n",
      "[3.66666667 1.33333333 0.33333333]\n",
      "[[ 0.          1.          0.10714286  0.          0.03571429]\n",
      " [ 0.          0.         -0.10714286  0.2         0.16428571]\n",
      " [-3.          0.         -0.10714286  0.          0.96428571]]\n",
      "[ 0.39285714  0.40714286 -1.39285714]\n",
      "[[ 0.         28.          3.65217391 -1.2173913   0.        ]\n",
      " [ 0.          0.         -0.65217391  1.2173913   1.        ]\n",
      " [-3.11111111  0.          0.5410628  -1.2173913   0.        ]]\n",
      "[ 8.52173913  2.47826087 -3.92270531]\n",
      "[[ 0.          7.66666667  1.         -0.33333333  0.        ]\n",
      " [-0.         -7.66666667  0.         -1.53333333 -1.53333333]\n",
      " [-5.75       -7.66666667  0.         -1.91666667  0.        ]]\n",
      "[ 2.33333333 -6.13333333 -9.58333333]\n"
     ]
    },
    {
     "data": {
      "text/plain": [
       "6.666666666666668"
      ]
     },
     "execution_count": 4,
     "metadata": {},
     "output_type": "execute_result"
    }
   ],
   "source": [
    "simplex(M,Z,C)"
   ]
  }
 ],
 "metadata": {
  "kernelspec": {
   "display_name": "Python 3",
   "language": "python",
   "name": "python3"
  },
  "language_info": {
   "codemirror_mode": {
    "name": "ipython",
    "version": 3
   },
   "file_extension": ".py",
   "mimetype": "text/x-python",
   "name": "python",
   "nbconvert_exporter": "python",
   "pygments_lexer": "ipython3",
   "version": "3.9.5"
  }
 },
 "nbformat": 4,
 "nbformat_minor": 4
}
